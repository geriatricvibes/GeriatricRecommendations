{
 "cells": [
  {
   "cell_type": "code",
   "execution_count": 1,
   "id": "a0dcb12c",
   "metadata": {},
   "outputs": [],
   "source": [
    "import json\n",
    "\n",
    "with open('noveldata.json','r',encoding='utf8') as f:\n",
    "    noveldata = f.read()"
   ]
  },
  {
   "cell_type": "code",
   "execution_count": 2,
   "id": "238fd809",
   "metadata": {},
   "outputs": [],
   "source": [
    "json_novel_data = json.loads(noveldata)"
   ]
  },
  {
   "cell_type": "code",
   "execution_count": 3,
   "id": "5b245a62",
   "metadata": {},
   "outputs": [],
   "source": [
    "j_file = json.loads(noveldata)[0]"
   ]
  },
  {
   "cell_type": "code",
   "execution_count": 4,
   "id": "c863097c",
   "metadata": {},
   "outputs": [],
   "source": [
    "def rating_num_correction(ratings):\n",
    "    ratings = ratings.split()\n",
    "    return ratings[3]"
   ]
  },
  {
   "cell_type": "code",
   "execution_count": 5,
   "id": "86aba38c",
   "metadata": {},
   "outputs": [],
   "source": [
    "def parse_fields(novel_data):\n",
    "    return {\n",
    "        \"url\": novel_data[\"url\"],\n",
    "        \"title\": novel_data[\"title\"],\n",
    "        \"ratings\": rating_num_correction(novel_data[\"rating\"]),\n",
    "        \"cover\": novel_data[\"image\"]\n",
    "    }"
   ]
  },
  {
   "cell_type": "code",
   "execution_count": 6,
   "id": "dd8b4197",
   "metadata": {
    "scrolled": true
   },
   "outputs": [
    {
     "data": {
      "text/plain": [
       "{'url': 'https://www.novelupdates.com/series/taming-the-villainesses/',\n",
       " 'title': 'Taming The Villainesses',\n",
       " 'ratings': '183',\n",
       " 'cover': 'https://cdn.novelupdates.com/images/2022/06/Taming-The-Villainesses.jpg'}"
      ]
     },
     "execution_count": 6,
     "metadata": {},
     "output_type": "execute_result"
    }
   ],
   "source": [
    "parse_fields(j_file)"
   ]
  },
  {
   "cell_type": "code",
   "execution_count": 7,
   "id": "eb6c4498",
   "metadata": {},
   "outputs": [],
   "source": [
    "Books = []\n",
    "\n",
    "with open('noveldata.json','r',encoding='utf8') as f:\n",
    "    data = f.read()\n",
    "    noveldata = json.loads(data)\n",
    "    i = 0\n",
    "    while i!= len(noveldata)-1:\n",
    "        fields = parse_fields(noveldata[i])\n",
    "    \n",
    "        try:\n",
    "            ratings = int(fields[\"ratings\"])\n",
    "        except ValueError:\n",
    "            continue\n",
    "\n",
    "        if ratings>10:\n",
    "            Books.append(fields)\n",
    "        i = i + 1"
   ]
  },
  {
   "cell_type": "code",
   "execution_count": 8,
   "id": "12100cd1",
   "metadata": {},
   "outputs": [],
   "source": [
    "import pandas as pd\n",
    "\n",
    "titles = pd.DataFrame.from_dict(Books)"
   ]
  },
  {
   "cell_type": "code",
   "execution_count": 9,
   "id": "97219ec8",
   "metadata": {},
   "outputs": [],
   "source": [
    "titles[\"ratings\"] = pd.to_numeric(titles[\"ratings\"])"
   ]
  },
  {
   "cell_type": "code",
   "execution_count": 10,
   "id": "637a7799",
   "metadata": {},
   "outputs": [],
   "source": [
    "titles[\"reduced_titles\"] = titles[\"title\"].str.replace(\"[^a-zA-z0-9]\",\"\", regex=True)\n",
    "titles[\"reduced_titles\"] = titles[\"reduced_titles\"].str.lower()\n",
    "titles[\"reduced_titles\"] = titles[\"reduced_titles\"].str.replace(\"\\s+\",\" \", regex = True)\n",
    "titles = titles[titles[\"reduced_titles\"].str.len()>0]"
   ]
  },
  {
   "cell_type": "code",
   "execution_count": 11,
   "id": "c8dffb2d",
   "metadata": {},
   "outputs": [
    {
     "data": {
      "text/html": [
       "<div>\n",
       "<style scoped>\n",
       "    .dataframe tbody tr th:only-of-type {\n",
       "        vertical-align: middle;\n",
       "    }\n",
       "\n",
       "    .dataframe tbody tr th {\n",
       "        vertical-align: top;\n",
       "    }\n",
       "\n",
       "    .dataframe thead th {\n",
       "        text-align: right;\n",
       "    }\n",
       "</style>\n",
       "<table border=\"1\" class=\"dataframe\">\n",
       "  <thead>\n",
       "    <tr style=\"text-align: right;\">\n",
       "      <th></th>\n",
       "      <th>url</th>\n",
       "      <th>title</th>\n",
       "      <th>ratings</th>\n",
       "      <th>cover</th>\n",
       "      <th>reduced_titles</th>\n",
       "    </tr>\n",
       "  </thead>\n",
       "  <tbody>\n",
       "    <tr>\n",
       "      <th>0</th>\n",
       "      <td>https://www.novelupdates.com/series/taming-the...</td>\n",
       "      <td>Taming The Villainesses</td>\n",
       "      <td>183</td>\n",
       "      <td>https://cdn.novelupdates.com/images/2022/06/Ta...</td>\n",
       "      <td>tamingthevillainesses</td>\n",
       "    </tr>\n",
       "    <tr>\n",
       "      <th>1</th>\n",
       "      <td>https://www.novelupdates.com/series/the-main-h...</td>\n",
       "      <td>The Main Heroines are Trying to Kill Me</td>\n",
       "      <td>428</td>\n",
       "      <td>https://cdn.novelupdates.com/images/2022/04/Th...</td>\n",
       "      <td>themainheroinesaretryingtokillme</td>\n",
       "    </tr>\n",
       "    <tr>\n",
       "      <th>2</th>\n",
       "      <td>https://www.novelupdates.com/series/the-regres...</td>\n",
       "      <td>The Regressed Demon Lord is Kind</td>\n",
       "      <td>529</td>\n",
       "      <td>https://cdn.novelupdates.com/images/2021/06/Th...</td>\n",
       "      <td>theregresseddemonlordiskind</td>\n",
       "    </tr>\n",
       "    <tr>\n",
       "      <th>3</th>\n",
       "      <td>https://www.novelupdates.com/series/kidnapped-...</td>\n",
       "      <td>Kidnapped Dragons</td>\n",
       "      <td>683</td>\n",
       "      <td>https://cdn.novelupdates.com/images/2020/10/Ki...</td>\n",
       "      <td>kidnappeddragons</td>\n",
       "    </tr>\n",
       "    <tr>\n",
       "      <th>4</th>\n",
       "      <td>https://www.novelupdates.com/series/im-really-...</td>\n",
       "      <td>I’m Really Not The Demon God’s Lackey</td>\n",
       "      <td>509</td>\n",
       "      <td>https://cdn.novelupdates.com/images/2021/06/Im...</td>\n",
       "      <td>imreallynotthedemongodslackey</td>\n",
       "    </tr>\n",
       "    <tr>\n",
       "      <th>...</th>\n",
       "      <td>...</td>\n",
       "      <td>...</td>\n",
       "      <td>...</td>\n",
       "      <td>...</td>\n",
       "      <td>...</td>\n",
       "    </tr>\n",
       "    <tr>\n",
       "      <th>11318</th>\n",
       "      <td>https://www.novelupdates.com/series/little-ger...</td>\n",
       "      <td>Little Ger, Slow Life in Another World</td>\n",
       "      <td>69</td>\n",
       "      <td>https://cdn.novelupdates.com/images/2021/10/Li...</td>\n",
       "      <td>littlegerslowlifeinanotherworld</td>\n",
       "    </tr>\n",
       "    <tr>\n",
       "      <th>11319</th>\n",
       "      <td>https://www.novelupdates.com/series/sword-and-...</td>\n",
       "      <td>Sword and Love</td>\n",
       "      <td>24</td>\n",
       "      <td>https://cdn.novelupdates.com/images/2018/09/Sw...</td>\n",
       "      <td>swordandlove</td>\n",
       "    </tr>\n",
       "    <tr>\n",
       "      <th>11320</th>\n",
       "      <td>https://www.novelupdates.com/series/misunderst...</td>\n",
       "      <td>Misunderstood Lousy Cop: Getting Promoted for ...</td>\n",
       "      <td>17</td>\n",
       "      <td>https://www.novelupdates.com/img/noimagefound.jpg</td>\n",
       "      <td>misunderstoodlousycopgettingpromotedforrunning...</td>\n",
       "    </tr>\n",
       "    <tr>\n",
       "      <th>11321</th>\n",
       "      <td>https://www.novelupdates.com/series/the-queens...</td>\n",
       "      <td>The Queen’s Husband</td>\n",
       "      <td>37</td>\n",
       "      <td>https://cdn.novelupdates.com/images/2019/03/tq...</td>\n",
       "      <td>thequeenshusband</td>\n",
       "    </tr>\n",
       "    <tr>\n",
       "      <th>11322</th>\n",
       "      <td>https://www.novelupdates.com/series/mary-san-c...</td>\n",
       "      <td>Mary-san Comes on Foot</td>\n",
       "      <td>74</td>\n",
       "      <td>https://www.novelupdates.com/img/noimagefound.jpg</td>\n",
       "      <td>marysancomesonfoot</td>\n",
       "    </tr>\n",
       "  </tbody>\n",
       "</table>\n",
       "<p>11323 rows × 5 columns</p>\n",
       "</div>"
      ],
      "text/plain": [
       "                                                     url  \\\n",
       "0      https://www.novelupdates.com/series/taming-the...   \n",
       "1      https://www.novelupdates.com/series/the-main-h...   \n",
       "2      https://www.novelupdates.com/series/the-regres...   \n",
       "3      https://www.novelupdates.com/series/kidnapped-...   \n",
       "4      https://www.novelupdates.com/series/im-really-...   \n",
       "...                                                  ...   \n",
       "11318  https://www.novelupdates.com/series/little-ger...   \n",
       "11319  https://www.novelupdates.com/series/sword-and-...   \n",
       "11320  https://www.novelupdates.com/series/misunderst...   \n",
       "11321  https://www.novelupdates.com/series/the-queens...   \n",
       "11322  https://www.novelupdates.com/series/mary-san-c...   \n",
       "\n",
       "                                                   title  ratings  \\\n",
       "0                                Taming The Villainesses      183   \n",
       "1                The Main Heroines are Trying to Kill Me      428   \n",
       "2                       The Regressed Demon Lord is Kind      529   \n",
       "3                                      Kidnapped Dragons      683   \n",
       "4                  I’m Really Not The Demon God’s Lackey      509   \n",
       "...                                                  ...      ...   \n",
       "11318             Little Ger, Slow Life in Another World       69   \n",
       "11319                                     Sword and Love       24   \n",
       "11320  Misunderstood Lousy Cop: Getting Promoted for ...       17   \n",
       "11321                                The Queen’s Husband       37   \n",
       "11322                             Mary-san Comes on Foot       74   \n",
       "\n",
       "                                                   cover  \\\n",
       "0      https://cdn.novelupdates.com/images/2022/06/Ta...   \n",
       "1      https://cdn.novelupdates.com/images/2022/04/Th...   \n",
       "2      https://cdn.novelupdates.com/images/2021/06/Th...   \n",
       "3      https://cdn.novelupdates.com/images/2020/10/Ki...   \n",
       "4      https://cdn.novelupdates.com/images/2021/06/Im...   \n",
       "...                                                  ...   \n",
       "11318  https://cdn.novelupdates.com/images/2021/10/Li...   \n",
       "11319  https://cdn.novelupdates.com/images/2018/09/Sw...   \n",
       "11320  https://www.novelupdates.com/img/noimagefound.jpg   \n",
       "11321  https://cdn.novelupdates.com/images/2019/03/tq...   \n",
       "11322  https://www.novelupdates.com/img/noimagefound.jpg   \n",
       "\n",
       "                                          reduced_titles  \n",
       "0                                  tamingthevillainesses  \n",
       "1                       themainheroinesaretryingtokillme  \n",
       "2                            theregresseddemonlordiskind  \n",
       "3                                       kidnappeddragons  \n",
       "4                          imreallynotthedemongodslackey  \n",
       "...                                                  ...  \n",
       "11318                    littlegerslowlifeinanotherworld  \n",
       "11319                                       swordandlove  \n",
       "11320  misunderstoodlousycopgettingpromotedforrunning...  \n",
       "11321                                   thequeenshusband  \n",
       "11322                                 marysancomesonfoot  \n",
       "\n",
       "[11323 rows x 5 columns]"
      ]
     },
     "execution_count": 11,
     "metadata": {},
     "output_type": "execute_result"
    }
   ],
   "source": [
    "titles"
   ]
  },
  {
   "cell_type": "code",
   "execution_count": 12,
   "id": "032ff889",
   "metadata": {},
   "outputs": [],
   "source": [
    "titles.to_json(\"books_titles.json\")\n",
    "titles.to_csv(\"bookdata.csv\")"
   ]
  },
  {
   "cell_type": "code",
   "execution_count": 13,
   "id": "455c62f5",
   "metadata": {},
   "outputs": [],
   "source": [
    "from sklearn.feature_extraction.text import TfidfVectorizer \n",
    "vectorizer = TfidfVectorizer()\n",
    "\n",
    "tfidf = vectorizer.fit_transform(titles[\"reduced_titles\"])"
   ]
  },
  {
   "cell_type": "code",
   "execution_count": 14,
   "id": "1e38cd1b",
   "metadata": {},
   "outputs": [],
   "source": [
    "from sklearn.metrics.pairwise import cosine_similarity\n",
    "import numpy as np\n",
    "import re\n",
    "\n",
    "def make_clickable(val): \n",
    "    return '<a target=\"_blank\" href=\"{}\">NovelUpdates</a>'.format(val)\n",
    "\n",
    "def show_image(val):\n",
    "    return '<img src=\"{}\" width=50></img>'.format(val)\n",
    "\n",
    "def search(query,vectorizer):\n",
    "    processed = re.sub(\"[^a-zA-Z0-9]\",\"\", query.lower())\n",
    "    query_vec = vectorizer.transform([processed])\n",
    "    similarity = cosine_similarity(query_vec, tfidf).flatten()\n",
    "    indices = np.argpartition(similarity,-5)[-5:]\n",
    "    results = titles.iloc[indices]\n",
    "    results = results.sort_values(\"ratings\", ascending=False)\n",
    "    return results.head(5).style.format({'url': make_clickable, 'cover':show_image })\n",
    "\n",
    "   "
   ]
  },
  {
   "cell_type": "code",
   "execution_count": 15,
   "id": "6e5f0978",
   "metadata": {
    "scrolled": true
   },
   "outputs": [
    {
     "data": {
      "text/html": [
       "<style type=\"text/css\">\n",
       "</style>\n",
       "<table id=\"T_c2ece_\">\n",
       "  <thead>\n",
       "    <tr>\n",
       "      <th class=\"blank level0\" >&nbsp;</th>\n",
       "      <th class=\"col_heading level0 col0\" >url</th>\n",
       "      <th class=\"col_heading level0 col1\" >title</th>\n",
       "      <th class=\"col_heading level0 col2\" >ratings</th>\n",
       "      <th class=\"col_heading level0 col3\" >cover</th>\n",
       "      <th class=\"col_heading level0 col4\" >reduced_titles</th>\n",
       "    </tr>\n",
       "  </thead>\n",
       "  <tbody>\n",
       "    <tr>\n",
       "      <th id=\"T_c2ece_level0_row0\" class=\"row_heading level0 row0\" >8986</th>\n",
       "      <td id=\"T_c2ece_row0_col0\" class=\"data row0 col0\" ><a target=\"_blank\" href=\"https://www.novelupdates.com/series/soul-of-negary/\">NovelUpdates</a></td>\n",
       "      <td id=\"T_c2ece_row0_col1\" class=\"data row0 col1\" >Soul of Negary</td>\n",
       "      <td id=\"T_c2ece_row0_col2\" class=\"data row0 col2\" >140</td>\n",
       "      <td id=\"T_c2ece_row0_col3\" class=\"data row0 col3\" ><img src=\"https://cdn.novelupdates.com/images/2020/07/negarysoul2.jpg\" width=50></img></td>\n",
       "      <td id=\"T_c2ece_row0_col4\" class=\"data row0 col4\" >soulofnegary</td>\n",
       "    </tr>\n",
       "    <tr>\n",
       "      <th id=\"T_c2ece_level0_row1\" class=\"row_heading level0 row1\" >3774</th>\n",
       "      <td id=\"T_c2ece_row1_col0\" class=\"data row1 col0\" ><a target=\"_blank\" href=\"https://www.novelupdates.com/series/hp1-kara-hajimeru-isekai-musou/\">NovelUpdates</a></td>\n",
       "      <td id=\"T_c2ece_row1_col1\" class=\"data row1 col1\" >HP1 kara Hajimeru Isekai Musou</td>\n",
       "      <td id=\"T_c2ece_row1_col2\" class=\"data row1 col2\" >129</td>\n",
       "      <td id=\"T_c2ece_row1_col3\" class=\"data row1 col3\" ><img src=\"https://www.novelupdates.com/img/noimagefound.jpg\" width=50></img></td>\n",
       "      <td id=\"T_c2ece_row1_col4\" class=\"data row1 col4\" >hp1karahajimeruisekaimusou</td>\n",
       "    </tr>\n",
       "    <tr>\n",
       "      <th id=\"T_c2ece_level0_row2\" class=\"row_heading level0 row2\" >3773</th>\n",
       "      <td id=\"T_c2ece_row2_col0\" class=\"data row2 col0\" ><a target=\"_blank\" href=\"https://www.novelupdates.com/series/i-became-the-youngest-daughter-of-the-mafia-family/\">NovelUpdates</a></td>\n",
       "      <td id=\"T_c2ece_row2_col1\" class=\"data row2 col1\" >I Became the Youngest Daughter of the Mafia Family</td>\n",
       "      <td id=\"T_c2ece_row2_col2\" class=\"data row2 col2\" >43</td>\n",
       "      <td id=\"T_c2ece_row2_col3\" class=\"data row2 col3\" ><img src=\"https://cdn.novelupdates.com/images/2021/08/I-Became-the-Youngest-Daughter-of-the-Mafia-Family.jpg\" width=50></img></td>\n",
       "      <td id=\"T_c2ece_row2_col4\" class=\"data row2 col4\" >ibecametheyoungestdaughterofthemafiafamily</td>\n",
       "    </tr>\n",
       "    <tr>\n",
       "      <th id=\"T_c2ece_level0_row3\" class=\"row_heading level0 row3\" >3772</th>\n",
       "      <td id=\"T_c2ece_row3_col0\" class=\"data row3 col0\" ><a target=\"_blank\" href=\"https://www.novelupdates.com/series/of-all-the-transmigrations-why-am-i-a-prisoner/\">NovelUpdates</a></td>\n",
       "      <td id=\"T_c2ece_row3_col1\" class=\"data row3 col1\" >Of All the Transmigrations, Why Am I a Prisoner?</td>\n",
       "      <td id=\"T_c2ece_row3_col2\" class=\"data row3 col2\" >28</td>\n",
       "      <td id=\"T_c2ece_row3_col3\" class=\"data row3 col3\" ><img src=\"https://cdn.novelupdates.com/images/2021/07/Of-all-the-Transmigrations-why-am-I-a-Prisoner_1627539664.jpg\" width=50></img></td>\n",
       "      <td id=\"T_c2ece_row3_col4\" class=\"data row3 col4\" >ofallthetransmigrationswhyamiaprisoner</td>\n",
       "    </tr>\n",
       "    <tr>\n",
       "      <th id=\"T_c2ece_level0_row4\" class=\"row_heading level0 row4\" >3771</th>\n",
       "      <td id=\"T_c2ece_row4_col0\" class=\"data row4 col0\" ><a target=\"_blank\" href=\"https://www.novelupdates.com/series/im-an-s-class-knight-and-i-was-appointed-as-a-captain-of-an-elite-unit-but-all-my-subordinates-were-older-s-class-female-knights/\">NovelUpdates</a></td>\n",
       "      <td id=\"T_c2ece_row4_col1\" class=\"data row4 col1\" >I’m an S-class Knight, and I was Appointed as a Captain of an Elite Unit, but all my Subordinates were Older S-class Female Knights</td>\n",
       "      <td id=\"T_c2ece_row4_col2\" class=\"data row4 col2\" >21</td>\n",
       "      <td id=\"T_c2ece_row4_col3\" class=\"data row4 col3\" ><img src=\"https://www.novelupdates.com/img/noimagefound.jpg\" width=50></img></td>\n",
       "      <td id=\"T_c2ece_row4_col4\" class=\"data row4 col4\" >imansclassknightandiwasappointedasacaptainofaneliteunitbutallmysubordinateswereoldersclassfemaleknights</td>\n",
       "    </tr>\n",
       "  </tbody>\n",
       "</table>\n"
      ],
      "text/plain": [
       "<pandas.io.formats.style.Styler at 0x1b0884d3070>"
      ]
     },
     "execution_count": 15,
     "metadata": {},
     "output_type": "execute_result"
    }
   ],
   "source": [
    "search(\"Soul Of Negary\", vectorizer)"
   ]
  },
  {
   "cell_type": "code",
   "execution_count": 16,
   "id": "2888976f",
   "metadata": {},
   "outputs": [],
   "source": [
    "liked_books = ['https://www.novelupdates.com/series/reverend-insanity/','https://www.novelupdates.com/series/soul-of-negary/']"
   ]
  },
  {
   "cell_type": "code",
   "execution_count": 17,
   "id": "9c7aed7e",
   "metadata": {},
   "outputs": [],
   "source": [
    "titles[titles[\"url\"].isin(liked_books)].to_csv(\"liked_books.csv\")"
   ]
  },
  {
   "cell_type": "code",
   "execution_count": null,
   "id": "0dc7694b",
   "metadata": {},
   "outputs": [],
   "source": []
  }
 ],
 "metadata": {
  "kernelspec": {
   "display_name": "Python 3 (ipykernel)",
   "language": "python",
   "name": "python3"
  },
  "language_info": {
   "codemirror_mode": {
    "name": "ipython",
    "version": 3
   },
   "file_extension": ".py",
   "mimetype": "text/x-python",
   "name": "python",
   "nbconvert_exporter": "python",
   "pygments_lexer": "ipython3",
   "version": "3.9.7"
  }
 },
 "nbformat": 4,
 "nbformat_minor": 5
}
