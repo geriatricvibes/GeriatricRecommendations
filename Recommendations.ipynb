{
 "cells": [
  {
   "cell_type": "code",
   "execution_count": 1,
   "id": "5c0188e3",
   "metadata": {},
   "outputs": [],
   "source": [
    "liked_books = ['https://www.novelupdates.com/series/overgeared/', 'https://www.novelupdates.com/series/cultivation-chat-group/', 'https://www.novelupdates.com/series/reverend-insanity/']"
   ]
  },
  {
   "cell_type": "code",
   "execution_count": 2,
   "id": "a992301f",
   "metadata": {},
   "outputs": [
    {
     "data": {
      "text/plain": [
       "15"
      ]
     },
     "execution_count": 2,
     "metadata": {},
     "output_type": "execute_result"
    }
   ],
   "source": [
    "import json\n",
    "\n",
    "with open('userinteraction.json','r',encoding='utf8') as f:\n",
    "    noveldata = f.read()\n",
    "json_novel_data = json.loads(noveldata)\n",
    "noveldata = json.loads(noveldata)[0]\n",
    "userdata = []\n",
    "j = 0\n",
    "while j!= len(noveldata[\"user_interaction\"])-1:\n",
    "    userdata.append({'bookurl': noveldata[\"url\"], 'userurl':noveldata[\"user_interaction\"][j][2], 'username': noveldata[\"user_interaction\"][j][1],'rating':noveldata[\"user_interaction\"][j][0]})\n",
    "    j = j+1\n",
    "    \n",
    "len(userdata)"
   ]
  },
  {
   "cell_type": "code",
   "execution_count": 3,
   "id": "1f70ab1f",
   "metadata": {},
   "outputs": [
    {
     "data": {
      "text/plain": [
       "222094"
      ]
     },
     "execution_count": 3,
     "metadata": {},
     "output_type": "execute_result"
    }
   ],
   "source": [
    "def userdatacorrection(file):\n",
    "    userdata = []\n",
    "    with open(file,'r',encoding='utf8') as f:\n",
    "        data = f.read()\n",
    "        noveldata = json.loads(data)\n",
    "    i = 0\n",
    "    while i <len(noveldata):\n",
    "        j = 0\n",
    "        while j<len(noveldata[i][\"user_interaction\"]):\n",
    "            userdata.append({'bookurl': noveldata[i][\"url\"], 'userurl':noveldata[i][\"user_interaction\"][j][2], 'username': noveldata[i][\"user_interaction\"][j][1],'rating':noveldata[i][\"user_interaction\"][j][0]})\n",
    "            j = j+1\n",
    "        i = i+1\n",
    "    return userdata\n",
    "\n",
    "\n",
    "\n",
    "userdata = userdatacorrection('userinteraction.json')  \n",
    "len(userdata)\n",
    "#final = json.dumps(userdata, indent=0)\n",
    "#print(final)\n"
   ]
  },
  {
   "cell_type": "code",
   "execution_count": 4,
   "id": "4547752c",
   "metadata": {},
   "outputs": [],
   "source": [
    "import pandas as pd\n",
    "\n",
    "user_interaction = pd.DataFrame.from_dict(userdata)\n",
    "\n",
    "user_interaction.to_csv(\"userinteractiondata.csv\")"
   ]
  },
  {
   "cell_type": "code",
   "execution_count": 5,
   "id": "d3007c0c",
   "metadata": {},
   "outputs": [
    {
     "data": {
      "text/html": [
       "<div>\n",
       "<style scoped>\n",
       "    .dataframe tbody tr th:only-of-type {\n",
       "        vertical-align: middle;\n",
       "    }\n",
       "\n",
       "    .dataframe tbody tr th {\n",
       "        vertical-align: top;\n",
       "    }\n",
       "\n",
       "    .dataframe thead th {\n",
       "        text-align: right;\n",
       "    }\n",
       "</style>\n",
       "<table border=\"1\" class=\"dataframe\">\n",
       "  <thead>\n",
       "    <tr style=\"text-align: right;\">\n",
       "      <th></th>\n",
       "      <th>bookurl</th>\n",
       "      <th>userurl</th>\n",
       "      <th>username</th>\n",
       "      <th>rating</th>\n",
       "    </tr>\n",
       "  </thead>\n",
       "  <tbody>\n",
       "    <tr>\n",
       "      <th>0</th>\n",
       "      <td>https://www.novelupdates.com/series/before-i-d...</td>\n",
       "      <td>https://www.novelupdates.com/user/58310/icerror/</td>\n",
       "      <td>icerror</td>\n",
       "      <td>2</td>\n",
       "    </tr>\n",
       "    <tr>\n",
       "      <th>1</th>\n",
       "      <td>https://www.novelupdates.com/series/before-i-d...</td>\n",
       "      <td>https://www.novelupdates.com/user/178629/Purps/</td>\n",
       "      <td>Purps</td>\n",
       "      <td>2</td>\n",
       "    </tr>\n",
       "    <tr>\n",
       "      <th>2</th>\n",
       "      <td>https://www.novelupdates.com/series/before-i-d...</td>\n",
       "      <td>https://www.novelupdates.com/user/19879/AngelK...</td>\n",
       "      <td>AngelKnighz2lips</td>\n",
       "      <td>5</td>\n",
       "    </tr>\n",
       "    <tr>\n",
       "      <th>3</th>\n",
       "      <td>https://www.novelupdates.com/series/before-i-d...</td>\n",
       "      <td>https://www.novelupdates.com/user/264900/twepr...</td>\n",
       "      <td>tweprebet</td>\n",
       "      <td>0</td>\n",
       "    </tr>\n",
       "    <tr>\n",
       "      <th>4</th>\n",
       "      <td>https://www.novelupdates.com/series/before-i-d...</td>\n",
       "      <td>https://www.novelupdates.com/user/338397/Blind...</td>\n",
       "      <td>Blindnoplan</td>\n",
       "      <td>5</td>\n",
       "    </tr>\n",
       "    <tr>\n",
       "      <th>...</th>\n",
       "      <td>...</td>\n",
       "      <td>...</td>\n",
       "      <td>...</td>\n",
       "      <td>...</td>\n",
       "    </tr>\n",
       "    <tr>\n",
       "      <th>222089</th>\n",
       "      <td>https://www.novelupdates.com/series/i-noticed-...</td>\n",
       "      <td>https://www.novelupdates.com/user/179824/Shado...</td>\n",
       "      <td>ShadowMellow</td>\n",
       "      <td>2</td>\n",
       "    </tr>\n",
       "    <tr>\n",
       "      <th>222090</th>\n",
       "      <td>https://www.novelupdates.com/series/i-noticed-...</td>\n",
       "      <td>https://www.novelupdates.com/user/286586/deeln...</td>\n",
       "      <td>deelnefire</td>\n",
       "      <td>3</td>\n",
       "    </tr>\n",
       "    <tr>\n",
       "      <th>222091</th>\n",
       "      <td>https://www.novelupdates.com/series/i-noticed-...</td>\n",
       "      <td>https://www.novelupdates.com/user/181895/summe...</td>\n",
       "      <td>summerspring</td>\n",
       "      <td>4</td>\n",
       "    </tr>\n",
       "    <tr>\n",
       "      <th>222092</th>\n",
       "      <td>https://www.novelupdates.com/series/i-noticed-...</td>\n",
       "      <td>https://www.novelupdates.com/user/106762/Azura...</td>\n",
       "      <td>Azurame</td>\n",
       "      <td>4</td>\n",
       "    </tr>\n",
       "    <tr>\n",
       "      <th>222093</th>\n",
       "      <td>https://www.novelupdates.com/series/i-noticed-...</td>\n",
       "      <td>https://www.novelupdates.com/user/104388/missf...</td>\n",
       "      <td>missfortunecookie</td>\n",
       "      <td>0</td>\n",
       "    </tr>\n",
       "  </tbody>\n",
       "</table>\n",
       "<p>222094 rows × 4 columns</p>\n",
       "</div>"
      ],
      "text/plain": [
       "                                                  bookurl  \\\n",
       "0       https://www.novelupdates.com/series/before-i-d...   \n",
       "1       https://www.novelupdates.com/series/before-i-d...   \n",
       "2       https://www.novelupdates.com/series/before-i-d...   \n",
       "3       https://www.novelupdates.com/series/before-i-d...   \n",
       "4       https://www.novelupdates.com/series/before-i-d...   \n",
       "...                                                   ...   \n",
       "222089  https://www.novelupdates.com/series/i-noticed-...   \n",
       "222090  https://www.novelupdates.com/series/i-noticed-...   \n",
       "222091  https://www.novelupdates.com/series/i-noticed-...   \n",
       "222092  https://www.novelupdates.com/series/i-noticed-...   \n",
       "222093  https://www.novelupdates.com/series/i-noticed-...   \n",
       "\n",
       "                                                  userurl           username  \\\n",
       "0        https://www.novelupdates.com/user/58310/icerror/            icerror   \n",
       "1         https://www.novelupdates.com/user/178629/Purps/              Purps   \n",
       "2       https://www.novelupdates.com/user/19879/AngelK...   AngelKnighz2lips   \n",
       "3       https://www.novelupdates.com/user/264900/twepr...          tweprebet   \n",
       "4       https://www.novelupdates.com/user/338397/Blind...        Blindnoplan   \n",
       "...                                                   ...                ...   \n",
       "222089  https://www.novelupdates.com/user/179824/Shado...       ShadowMellow   \n",
       "222090  https://www.novelupdates.com/user/286586/deeln...         deelnefire   \n",
       "222091  https://www.novelupdates.com/user/181895/summe...       summerspring   \n",
       "222092  https://www.novelupdates.com/user/106762/Azura...            Azurame   \n",
       "222093  https://www.novelupdates.com/user/104388/missf...  missfortunecookie   \n",
       "\n",
       "        rating  \n",
       "0            2  \n",
       "1            2  \n",
       "2            5  \n",
       "3            0  \n",
       "4            5  \n",
       "...        ...  \n",
       "222089       2  \n",
       "222090       3  \n",
       "222091       4  \n",
       "222092       4  \n",
       "222093       0  \n",
       "\n",
       "[222094 rows x 4 columns]"
      ]
     },
     "execution_count": 5,
     "metadata": {},
     "output_type": "execute_result"
    }
   ],
   "source": [
    "user_interaction"
   ]
  },
  {
   "cell_type": "code",
   "execution_count": 6,
   "id": "470c57ab",
   "metadata": {},
   "outputs": [
    {
     "ename": "SyntaxError",
     "evalue": "'continue' not properly in loop (Temp/ipykernel_16624/3582541218.py, line 7)",
     "output_type": "error",
     "traceback": [
      "\u001b[1;36m  File \u001b[1;32m\"C:\\Users\\PC\\AppData\\Local\\Temp/ipykernel_16624/3582541218.py\"\u001b[1;36m, line \u001b[1;32m7\u001b[0m\n\u001b[1;33m    continue\u001b[0m\n\u001b[1;37m    ^\u001b[0m\n\u001b[1;31mSyntaxError\u001b[0m\u001b[1;31m:\u001b[0m 'continue' not properly in loop\n"
     ]
    }
   ],
   "source": [
    "overlap_users = set()\n",
    "\n",
    "i = 0\n",
    "    \n",
    "    h\n",
    "    \n",
    "    if userdata[i]['userurl'] in overlap_users:\n",
    "        continue\n",
    "    \n",
    "    try:\n",
    "        userdata[i]['rating'] = int(userdata[i]['rating'])\n",
    "    except ValueError:\n",
    "        continue\n",
    "    \n",
    "    if userdata[i]['bookurl'] in liked_books and userdata[i]['rating']>=4:\n",
    "        overlap_users.add(userdata[i]['userurl'])\n",
    "    i = i +1 \n",
    "       \n",
    "    \n",
    "overlap_users"
   ]
  },
  {
   "cell_type": "code",
   "execution_count": null,
   "id": "7c08c3be",
   "metadata": {},
   "outputs": [],
   "source": [
    "rec_lines = []\n",
    "\n",
    "for i in userdata:\n",
    "    if i['userurl'] in overlap_users:\n",
    "        rec_lines.append([i['userurl'], i['bookurl'],i['rating']])\n",
    "\n",
    "len(rec_lines)"
   ]
  },
  {
   "cell_type": "code",
   "execution_count": null,
   "id": "3c62a284",
   "metadata": {},
   "outputs": [],
   "source": [
    "import pandas as pd\n",
    "\n",
    "recs = pd.DataFrame(rec_lines, columns = ['userurl','bookurl','rating'])\n",
    "                    \n",
    "\n",
    "recs['bookurl'] = recs['bookurl'].astype(str)           \n",
    "top_recs = recs['bookurl'].value_counts().head(20)\n",
    "\n",
    "top_recs = top_recs.index.values"
   ]
  },
  {
   "cell_type": "code",
   "execution_count": null,
   "id": "2ae0dd1e",
   "metadata": {},
   "outputs": [],
   "source": [
    "books_titles = pd.read_json(\"books_titles.json\")\n",
    "books_titles[\"url\"] = books_titles[\"url\"].astype(str)"
   ]
  },
  {
   "cell_type": "code",
   "execution_count": null,
   "id": "ad3c4f6e",
   "metadata": {},
   "outputs": [],
   "source": [
    "books_titles.head()"
   ]
  },
  {
   "cell_type": "code",
   "execution_count": null,
   "id": "c8c68b4c",
   "metadata": {},
   "outputs": [],
   "source": [
    "books_titles[books_titles[\"url\"].isin(top_recs)]"
   ]
  },
  {
   "cell_type": "code",
   "execution_count": null,
   "id": "53060b3a",
   "metadata": {},
   "outputs": [],
   "source": [
    "top_recs"
   ]
  },
  {
   "cell_type": "code",
   "execution_count": null,
   "id": "4d10f434",
   "metadata": {},
   "outputs": [],
   "source": [
    "all_recs = recs[\"bookurl\"].value_counts()"
   ]
  },
  {
   "cell_type": "code",
   "execution_count": null,
   "id": "e447829a",
   "metadata": {},
   "outputs": [],
   "source": [
    "all_recs"
   ]
  },
  {
   "cell_type": "code",
   "execution_count": null,
   "id": "d8192514",
   "metadata": {},
   "outputs": [],
   "source": [
    "all_recs = all_recs.to_frame().reset_index()"
   ]
  },
  {
   "cell_type": "code",
   "execution_count": null,
   "id": "c0a68f7c",
   "metadata": {},
   "outputs": [],
   "source": [
    "all_recs.columns = [\"url\",\"count\"]\n"
   ]
  },
  {
   "cell_type": "code",
   "execution_count": null,
   "id": "1a3ecb24",
   "metadata": {},
   "outputs": [],
   "source": [
    "all_recs"
   ]
  },
  {
   "cell_type": "code",
   "execution_count": null,
   "id": "df175c22",
   "metadata": {},
   "outputs": [],
   "source": [
    "all_recs = all_recs.merge(books_titles, how=\"inner\", on=\"url\" )"
   ]
  },
  {
   "cell_type": "code",
   "execution_count": null,
   "id": "d7f7b932",
   "metadata": {},
   "outputs": [],
   "source": [
    "all_recs"
   ]
  },
  {
   "cell_type": "code",
   "execution_count": null,
   "id": "1b148c05",
   "metadata": {},
   "outputs": [],
   "source": [
    "all_recs[\"score\"] = all_recs[\"count\"] **2* (all_recs['count']/all_recs[\"ratings\"])"
   ]
  },
  {
   "cell_type": "code",
   "execution_count": null,
   "id": "3effc482",
   "metadata": {},
   "outputs": [],
   "source": [
    "all_recs.sort_values(\"score\", ascending = False).head(10)"
   ]
  },
  {
   "cell_type": "code",
   "execution_count": null,
   "id": "2fa8c572",
   "metadata": {},
   "outputs": [],
   "source": [
    "popular_recs = all_recs[all_recs['count']>3].sort_values(\"score\", ascending=\"False\").head(10)"
   ]
  },
  {
   "cell_type": "code",
   "execution_count": null,
   "id": "aa58fbcb",
   "metadata": {},
   "outputs": [],
   "source": [
    "popular_recs"
   ]
  },
  {
   "cell_type": "code",
   "execution_count": null,
   "id": "81b5df94",
   "metadata": {},
   "outputs": [],
   "source": []
  }
 ],
 "metadata": {
  "kernelspec": {
   "display_name": "Python 3 (ipykernel)",
   "language": "python",
   "name": "python3"
  },
  "language_info": {
   "codemirror_mode": {
    "name": "ipython",
    "version": 3
   },
   "file_extension": ".py",
   "mimetype": "text/x-python",
   "name": "python",
   "nbconvert_exporter": "python",
   "pygments_lexer": "ipython3",
   "version": "3.9.7"
  }
 },
 "nbformat": 4,
 "nbformat_minor": 5
}
